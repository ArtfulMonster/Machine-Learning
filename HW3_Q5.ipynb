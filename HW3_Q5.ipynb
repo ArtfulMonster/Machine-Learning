{
  "nbformat": 4,
  "nbformat_minor": 0,
  "metadata": {
    "colab": {
      "provenance": [],
      "authorship_tag": "ABX9TyMKe+BEznDmGsuuNuH2RsDA",
      "include_colab_link": true
    },
    "kernelspec": {
      "name": "python3",
      "display_name": "Python 3"
    },
    "language_info": {
      "name": "python"
    }
  },
  "cells": [
    {
      "cell_type": "markdown",
      "metadata": {
        "id": "view-in-github",
        "colab_type": "text"
      },
      "source": [
        "<a href=\"https://colab.research.google.com/github/ArtfulMonster/Machine-Learning/blob/main/HW3_Q5.ipynb\" target=\"_parent\"><img src=\"https://colab.research.google.com/assets/colab-badge.svg\" alt=\"Open In Colab\"/></a>"
      ]
    },
    {
      "cell_type": "code",
      "execution_count": 8,
      "metadata": {
        "colab": {
          "base_uri": "https://localhost:8080/"
        },
        "id": "Tc5N8MZRPRxf",
        "outputId": "3d42665b-23e5-4b87-d964-6bbdcab64b8b"
      },
      "outputs": [
        {
          "output_type": "stream",
          "name": "stdout",
          "text": [
            "Optimal K: 5\n",
            "Classification Accuracy: 0.9210526315789473\n",
            "Precision: 0.9142857142857143\n",
            "Recall: 0.9552238805970149\n",
            "F1 Score: 0.9343065693430657\n"
          ]
        }
      ],
      "source": [
        "import numpy as np\n",
        "import pandas as pd\n",
        "from sklearn.datasets import load_breast_cancer\n",
        "from sklearn.model_selection import train_test_split\n",
        "from sklearn.preprocessing import StandardScaler\n",
        "from sklearn.decomposition import PCA\n",
        "from sklearn.naive_bayes import GaussianNB  # Import Gaussian Naive Bayes\n",
        "from sklearn.metrics import accuracy_score, precision_score, recall_score, f1_score\n",
        "\n",
        "# Step 1: Load and preprocess the data\n",
        "data = load_breast_cancer()\n",
        "X = data.data\n",
        "y = data.target\n",
        "\n",
        "# Step 2: Standardize the data\n",
        "scaler = StandardScaler()\n",
        "X_scaled = scaler.fit_transform(X)\n",
        "\n",
        "# Step 3: Perform PCA\n",
        "pca = PCA()\n",
        "X_pca = pca.fit_transform(X_scaled)\n",
        "\n",
        "# Step 4 and 5: Train Naive Bayes with varying K components and evaluate\n",
        "results = []\n",
        "for k in range(1, X.shape[1] + 1):\n",
        "    X_train, X_test, y_train, y_test = train_test_split(X_pca[:, :k], y, test_size=0.2, random_state=0)\n",
        "    model = GaussianNB()  # Use Gaussian Naive Bayes\n",
        "    model.fit(X_train, y_train)\n",
        "    y_pred = model.predict(X_test)\n",
        "\n",
        "    accuracy = accuracy_score(y_test, y_pred)\n",
        "    precision = precision_score(y_test, y_pred)\n",
        "    recall = recall_score(y_test, y_pred)\n",
        "    f1 = f1_score(y_test, y_pred)\n",
        "\n",
        "    results.append((k, accuracy, precision, recall, f1))\n",
        "\n",
        "# Step 6: Select the optimal K\n",
        "best_k, best_accuracy, best_precision, best_recall, best_f1 = max(results, key=lambda x: x[1])\n",
        "\n",
        "# Step 7: Report results\n",
        "print(f\"Optimal K: {best_k}\")\n",
        "print(f\"Classification Accuracy: {best_accuracy}\")\n",
        "print(f\"Precision: {best_precision}\")\n",
        "print(f\"Recall: {best_recall}\")\n",
        "print(f\"F1 Score: {best_f1}\")\n"
      ]
    }
  ]
}